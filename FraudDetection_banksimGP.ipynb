{
  "cells": [
    {
      "cell_type": "code",
      "execution_count": 2,
      "metadata": {
        "id": "KhF3EZC0Snz5"
      },
      "outputs": [],
      "source": [
        "import numpy as np\n",
        "import pandas as pd\n",
        "import matplotlib.pyplot as plt\n",
        "import seaborn as sns"
      ]
    },
    {
      "cell_type": "markdown",
      "metadata": {
        "id": "JZ9EvZHU6mKD"
      },
      "source": [
        "# Introduction\n",
        "\n",
        "I've created a GitHub Repository for this group project, you can search for athemaris on GitHub.\n",
        "The repository name is `FraudDetection_banksim`. There I uploaded the csv dataset (BankSim Dataset.csv)."
      ]
    },
    {
      "cell_type": "code",
      "execution_count": 3,
      "metadata": {
        "id": "xn4zkQiN65Fx"
      },
      "outputs": [],
      "source": [
        "# getting the dataset from github\n",
        "url_df = 'https://raw.githubusercontent.com/athemaris/FraudDetection_banksim/refs/heads/main/BankSim%20Dataset.csv'\n",
        "\n",
        "banksim_df = pd.read_csv(url_df)"
      ]
    },
    {
      "cell_type": "code",
      "execution_count": 4,
      "metadata": {
        "colab": {
          "base_uri": "https://localhost:8080/",
          "height": 204
        },
        "id": "4JHjMwHdaCOI",
        "outputId": "ab8617c6-0f22-49da-afe0-cce3a0fb2d7a"
      },
      "outputs": [
        {
          "data": {
            "application/vnd.microsoft.datawrangler.viewer.v0+json": {
              "columns": [
                {
                  "name": "index",
                  "rawType": "int64",
                  "type": "integer"
                },
                {
                  "name": "step",
                  "rawType": "int64",
                  "type": "integer"
                },
                {
                  "name": "customer",
                  "rawType": "object",
                  "type": "string"
                },
                {
                  "name": "age",
                  "rawType": "object",
                  "type": "string"
                },
                {
                  "name": "gender",
                  "rawType": "object",
                  "type": "string"
                },
                {
                  "name": "zipcodeOri",
                  "rawType": "int64",
                  "type": "integer"
                },
                {
                  "name": "merchant",
                  "rawType": "object",
                  "type": "string"
                },
                {
                  "name": "zipMerchant",
                  "rawType": "int64",
                  "type": "integer"
                },
                {
                  "name": "category",
                  "rawType": "object",
                  "type": "string"
                },
                {
                  "name": "amount",
                  "rawType": "object",
                  "type": "string"
                },
                {
                  "name": "fraud",
                  "rawType": "int64",
                  "type": "integer"
                }
              ],
              "ref": "b1a588a9-d2a8-4dad-88d4-aeed85e7cac9",
              "rows": [
                [
                  "0",
                  "0",
                  "C583110837",
                  "3",
                  "M",
                  "28007",
                  "M480139044",
                  "28007",
                  "es_health",
                  "4,426",
                  "1"
                ],
                [
                  "1",
                  "0",
                  "C1332295774",
                  "3",
                  "M",
                  "28007",
                  "M480139044",
                  "28007",
                  "es_health",
                  "3,245",
                  "1"
                ],
                [
                  "2",
                  "0",
                  "C1160421902",
                  "3",
                  "M",
                  "28007",
                  "M857378720",
                  "28007",
                  "es_hotelservices",
                  "17,632",
                  "1"
                ],
                [
                  "3",
                  "0",
                  "C966214713",
                  "3",
                  "M",
                  "28007",
                  "M857378720",
                  "28007",
                  "es_hotelservices",
                  "33,741",
                  "1"
                ],
                [
                  "4",
                  "0",
                  "C1450140987",
                  "4",
                  "F",
                  "28007",
                  "M1198415165",
                  "28007",
                  "es_wellnessandbeauty",
                  "22,011",
                  "1"
                ]
              ],
              "shape": {
                "columns": 10,
                "rows": 5
              }
            },
            "text/html": [
              "<div>\n",
              "<style scoped>\n",
              "    .dataframe tbody tr th:only-of-type {\n",
              "        vertical-align: middle;\n",
              "    }\n",
              "\n",
              "    .dataframe tbody tr th {\n",
              "        vertical-align: top;\n",
              "    }\n",
              "\n",
              "    .dataframe thead th {\n",
              "        text-align: right;\n",
              "    }\n",
              "</style>\n",
              "<table border=\"1\" class=\"dataframe\">\n",
              "  <thead>\n",
              "    <tr style=\"text-align: right;\">\n",
              "      <th></th>\n",
              "      <th>step</th>\n",
              "      <th>customer</th>\n",
              "      <th>age</th>\n",
              "      <th>gender</th>\n",
              "      <th>zipcodeOri</th>\n",
              "      <th>merchant</th>\n",
              "      <th>zipMerchant</th>\n",
              "      <th>category</th>\n",
              "      <th>amount</th>\n",
              "      <th>fraud</th>\n",
              "    </tr>\n",
              "  </thead>\n",
              "  <tbody>\n",
              "    <tr>\n",
              "      <th>0</th>\n",
              "      <td>0</td>\n",
              "      <td>C583110837</td>\n",
              "      <td>3</td>\n",
              "      <td>M</td>\n",
              "      <td>28007</td>\n",
              "      <td>M480139044</td>\n",
              "      <td>28007</td>\n",
              "      <td>es_health</td>\n",
              "      <td>4,426</td>\n",
              "      <td>1</td>\n",
              "    </tr>\n",
              "    <tr>\n",
              "      <th>1</th>\n",
              "      <td>0</td>\n",
              "      <td>C1332295774</td>\n",
              "      <td>3</td>\n",
              "      <td>M</td>\n",
              "      <td>28007</td>\n",
              "      <td>M480139044</td>\n",
              "      <td>28007</td>\n",
              "      <td>es_health</td>\n",
              "      <td>3,245</td>\n",
              "      <td>1</td>\n",
              "    </tr>\n",
              "    <tr>\n",
              "      <th>2</th>\n",
              "      <td>0</td>\n",
              "      <td>C1160421902</td>\n",
              "      <td>3</td>\n",
              "      <td>M</td>\n",
              "      <td>28007</td>\n",
              "      <td>M857378720</td>\n",
              "      <td>28007</td>\n",
              "      <td>es_hotelservices</td>\n",
              "      <td>17,632</td>\n",
              "      <td>1</td>\n",
              "    </tr>\n",
              "    <tr>\n",
              "      <th>3</th>\n",
              "      <td>0</td>\n",
              "      <td>C966214713</td>\n",
              "      <td>3</td>\n",
              "      <td>M</td>\n",
              "      <td>28007</td>\n",
              "      <td>M857378720</td>\n",
              "      <td>28007</td>\n",
              "      <td>es_hotelservices</td>\n",
              "      <td>33,741</td>\n",
              "      <td>1</td>\n",
              "    </tr>\n",
              "    <tr>\n",
              "      <th>4</th>\n",
              "      <td>0</td>\n",
              "      <td>C1450140987</td>\n",
              "      <td>4</td>\n",
              "      <td>F</td>\n",
              "      <td>28007</td>\n",
              "      <td>M1198415165</td>\n",
              "      <td>28007</td>\n",
              "      <td>es_wellnessandbeauty</td>\n",
              "      <td>22,011</td>\n",
              "      <td>1</td>\n",
              "    </tr>\n",
              "  </tbody>\n",
              "</table>\n",
              "</div>"
            ],
            "text/plain": [
              "   step     customer age gender  zipcodeOri     merchant  zipMerchant  \\\n",
              "0     0   C583110837   3      M       28007   M480139044        28007   \n",
              "1     0  C1332295774   3      M       28007   M480139044        28007   \n",
              "2     0  C1160421902   3      M       28007   M857378720        28007   \n",
              "3     0   C966214713   3      M       28007   M857378720        28007   \n",
              "4     0  C1450140987   4      F       28007  M1198415165        28007   \n",
              "\n",
              "               category  amount  fraud  \n",
              "0             es_health   4,426      1  \n",
              "1             es_health   3,245      1  \n",
              "2      es_hotelservices  17,632      1  \n",
              "3      es_hotelservices  33,741      1  \n",
              "4  es_wellnessandbeauty  22,011      1  "
            ]
          },
          "execution_count": 4,
          "metadata": {},
          "output_type": "execute_result"
        }
      ],
      "source": [
        "banksim_df.head()"
      ]
    },
    {
      "cell_type": "code",
      "execution_count": 5,
      "metadata": {
        "colab": {
          "base_uri": "https://localhost:8080/"
        },
        "id": "YO3tyNu-8Pz4",
        "outputId": "374ec853-4da6-4533-cd0b-370f0dde53b6"
      },
      "outputs": [
        {
          "name": "stdout",
          "output_type": "stream",
          "text": [
            "Values age: ['3' '4' '2' '5' '1' '6' '0' 'U']\n",
            "Values gender: ['M' 'F' 'E' 'U']\n",
            "[28007]\n",
            "[28007]\n",
            "['es_health' 'es_hotelservices' 'es_wellnessandbeauty' 'es_sportsandtoys'\n",
            " 'es_home' 'es_otherservices' 'es_fashion' 'es_leisure' 'es_travel'\n",
            " 'es_barsandrestaurants' 'es_tech' 'es_hyper' 'es_transportation'\n",
            " 'es_food' 'es_contents']\n",
            "['M480139044' 'M857378720' 'M1198415165' 'M980657600' 'M1741626453'\n",
            " 'M1535107174' 'M2122776122' 'M209847108' 'M1888755466' 'M547558035'\n",
            " 'M3697346' 'M1649169323' 'M923029380' 'M495352832' 'M17379832'\n",
            " 'M1294758098' 'M1748431652' 'M151143676' 'M732195782' 'M840466850'\n",
            " 'M855959430' 'M50039827' 'M2080407379' 'M2011752106' 'M692898500'\n",
            " 'M1353266412' 'M1873032707' 'M78078399' 'M933210764' 'M348875670'\n",
            " 'M348934600' 'M1823072687' 'M1053599405' 'M85975013' 'M349281107'\n",
            " 'M1352454843' 'M117188757' 'M1946091778' 'M97925176' 'M1842530320'\n",
            " 'M677738360' 'M1313686961' 'M1600850729' 'M1872033263' 'M1400236507'\n",
            " 'M1913465890' 'M45060432' 'M1788569036' 'M1416436880' 'M1726401631']\n"
          ]
        }
      ],
      "source": [
        "# quick look at unique values of categorical variables\n",
        "\n",
        "print(f'Values age: {banksim_df['age'].unique()}')\n",
        "print(f'Values gender: {banksim_df['gender'].unique()}')\n",
        "print(banksim_df['zipcodeOri'].unique())\n",
        "print(banksim_df['zipMerchant'].unique())\n",
        "print(banksim_df['category'].unique())\n",
        "print(banksim_df['merchant'].unique())"
      ]
    },
    {
      "cell_type": "markdown",
      "metadata": {
        "id": "gPRhEmj7-kqx"
      },
      "source": [
        "The values in `gender` stand for:\n",
        "* E stands for ENTERPRISE.\n",
        "* U stands for UNKNOWN.\n",
        "* M stands for MALE\n",
        "* F stands for FEMALE\n",
        "\n",
        "The value U in `age` stands for UNKNOWN."
      ]
    },
    {
      "cell_type": "code",
      "execution_count": 6,
      "metadata": {},
      "outputs": [
        {
          "name": "stdout",
          "output_type": "stream",
          "text": [
            "<class 'pandas.core.frame.DataFrame'>\n",
            "RangeIndex: 594643 entries, 0 to 594642\n",
            "Data columns (total 10 columns):\n",
            " #   Column       Non-Null Count   Dtype \n",
            "---  ------       --------------   ----- \n",
            " 0   step         594643 non-null  int64 \n",
            " 1   customer     594643 non-null  object\n",
            " 2   age          594643 non-null  object\n",
            " 3   gender       594643 non-null  object\n",
            " 4   zipcodeOri   594643 non-null  int64 \n",
            " 5   merchant     594643 non-null  object\n",
            " 6   zipMerchant  594643 non-null  int64 \n",
            " 7   category     594643 non-null  object\n",
            " 8   amount       594643 non-null  object\n",
            " 9   fraud        594643 non-null  int64 \n",
            "dtypes: int64(4), object(6)\n",
            "memory usage: 45.4+ MB\n"
          ]
        }
      ],
      "source": [
        "# collect info about the type of each variable\n",
        "\n",
        "banksim_df.info()"
      ]
    },
    {
      "cell_type": "markdown",
      "metadata": {},
      "source": [
        "The Dtype of the following variables are incorrect:\n",
        "- `amount` is an obejct and needs to be converted into a float"
      ]
    },
    {
      "cell_type": "code",
      "execution_count": 7,
      "metadata": {
        "id": "XiSLWzBD_0O_"
      },
      "outputs": [
        {
          "name": "stdout",
          "output_type": "stream",
          "text": [
            "float64\n"
          ]
        }
      ],
      "source": [
        "# let's convert amount type from object to float\n",
        "\n",
        "banksim_df['amount'] = banksim_df['amount'].str.replace(',', '').astype(float)\n",
        "\n",
        "print(banksim_df['amount'].dtype)"
      ]
    },
    {
      "cell_type": "markdown",
      "metadata": {
        "id": "Na11GctfmX6Z"
      },
      "source": [
        "## Feature Engineering\n",
        "\n",
        "In order to set up the dataset for LightGBM, we first need to make sure that the categorical variables are of the type `category` LightGBM can use categorical features directly, but its processing actually relies on integer code. \n",
        "Pandas `dtype='category'` naturally provides these integer codes. \n",
        "\n",
        "This is the first step to do before the feature derivation process. "
      ]
    },
    {
      "cell_type": "code",
      "execution_count": 8,
      "metadata": {
        "id": "uIPyeOGwYpGJ"
      },
      "outputs": [],
      "source": [
        "# creating a working copy of the dataset\n",
        "\n",
        "df = banksim_df.copy()"
      ]
    },
    {
      "cell_type": "code",
      "execution_count": 9,
      "metadata": {
        "id": "OnFEZdIWY0dd"
      },
      "outputs": [],
      "source": [
        "# changing the type of categorical variables to 'category' for LightGBM\n",
        "\n",
        "for c in ['customer','age','gender','merchant','category']:\n",
        "    if c in df.columns:\n",
        "        df[c] = df[c].astype('category')\n",
        "\n"
      ]
    },
    {
      "cell_type": "code",
      "execution_count": 10,
      "metadata": {
        "colab": {
          "base_uri": "https://localhost:8080/"
        },
        "id": "hb3m7B_qZe05",
        "outputId": "cb130fe9-b065-47ee-cbb1-8f56b3efa1f7"
      },
      "outputs": [
        {
          "name": "stdout",
          "output_type": "stream",
          "text": [
            "step              int64\n",
            "customer       category\n",
            "age            category\n",
            "gender         category\n",
            "zipcodeOri        int64\n",
            "merchant       category\n",
            "zipMerchant       int64\n",
            "category       category\n",
            "amount          float64\n",
            "fraud             int64\n",
            "dtype: object\n"
          ]
        }
      ],
      "source": [
        "# check if the conversion worked properly\n",
        "\n",
        "print(df.dtypes)"
      ]
    },
    {
      "cell_type": "markdown",
      "metadata": {},
      "source": [
        "The new dataset `df` contains all the original variables correctly converted. "
      ]
    },
    {
      "cell_type": "markdown",
      "metadata": {
        "id": "Kd8AQQBoZ74z"
      },
      "source": [
        "### Features Building\n",
        "\n",
        "In order to extract some useful data from the raw dataset, the following variables will be computed:\n",
        "* `log_amount`: stabilizes skewed amounts\n",
        "* `cust_txn_count_prev`: how many txns this customer had before now\n",
        "* `cust_amt_mean_prev`: customer’s average amount before now\n",
        "* `amt_minus_cust_mean_diff`: difference between current amount and customer's historical mean amount\n",
        "* `time_since_last_cust_txn`: days since customer’s last txn\n",
        "* `time_since_last_cust_merchant`: days since customer last used this merchant\n",
        "* `cust_merchant_txn_count_prev`: familiarity with merchant\n",
        "* `cust_category_count_prev`: familiarity with category\n",
        "\n",
        "Before doing so, the dataset will be sorted so every feature is computed on the same sorted timeline. "
      ]
    },
    {
      "cell_type": "code",
      "execution_count": 11,
      "metadata": {
        "colab": {
          "base_uri": "https://localhost:8080/"
        },
        "id": "6LtvNtCRnoVe",
        "outputId": "298472da-963b-4fa5-f8f4-4465d61391ca"
      },
      "outputs": [
        {
          "name": "stdout",
          "output_type": "stream",
          "text": [
            "0    0\n",
            "1    1\n",
            "2    2\n",
            "3    3\n",
            "4    4\n",
            "Name: _row_id, dtype: int64\n"
          ]
        }
      ],
      "source": [
        "# adding a unique row identifier (_row_id) to save the original order of the dataset\n",
        "\n",
        "df['_row_id'] = np.arange(len(df), dtype=np.int64)\n",
        "print(df['_row_id'].head())\n"
      ]
    },
    {
      "cell_type": "markdown",
      "metadata": {},
      "source": [
        "After preserving the original row order, we now sort the working dataset by `['customer', 'step', 'merchant', 'category']`. \n",
        "This establishes a time-aware sequence per customer so ‘previous’ features only use past information.\n"
      ]
    },
    {
      "cell_type": "code",
      "execution_count": 12,
      "metadata": {},
      "outputs": [],
      "source": [
        "# creating a sorted version of the dataset for a robust feature engineering\n",
        "df_sort = df.sort_values(['customer', 'step', 'merchant', 'category']).copy()\n",
        "\n",
        "# this way the dataset is sorted by customer, step, merchant and category\n",
        "# it is useful because now we can group by customer and step to see all transactions made by a customer at a certain step"
      ]
    },
    {
      "cell_type": "code",
      "execution_count": 13,
      "metadata": {},
      "outputs": [
        {
          "name": "stdout",
          "output_type": "stream",
          "text": [
            "         amount  log_amount\n",
            "86563   14387.0    9.574150\n",
            "111048   1669.0    7.420579\n",
            "122828   5618.0    8.633909\n",
            "125868   1474.0    7.296413\n",
            "130310   4742.0    8.464425\n",
            "\n",
            " Here's a description of amount: \n",
            " count    594643.000000\n",
            "mean       3452.935302\n",
            "std       10674.403405\n",
            "min           0.000000\n",
            "25%         951.000000\n",
            "50%        2399.000000\n",
            "75%        4047.000000\n",
            "max      832996.000000\n",
            "Name: amount, dtype: float64\n",
            "\n",
            " Here's a description of log_amount: \n",
            " count    594643.000000\n",
            "mean          7.465628\n",
            "std           1.293303\n",
            "min           0.000000\n",
            "25%           6.858565\n",
            "50%           7.783224\n",
            "75%           8.305978\n",
            "max          13.632785\n",
            "Name: log_amount, dtype: float64\n"
          ]
        }
      ],
      "source": [
        "# let's add the first new variable: log_amount\n",
        "# it is the logarithm of the amount + 1 (to avoid log(0))\n",
        "\n",
        "df_sort['log_amount'] = np.log1p(df_sort['amount'])\n",
        "\n",
        "# let's check the new variable and compare it to amount\n",
        "\n",
        "print(df_sort[['amount', 'log_amount']].head())\n",
        "print(f\"\\n Here's a description of amount: \\n {df_sort['amount'].describe()}\")\n",
        "print(f\"\\n Here's a description of log_amount: \\n {df_sort['log_amount'].describe()}\")"
      ]
    },
    {
      "cell_type": "code",
      "execution_count": 14,
      "metadata": {},
      "outputs": [
        {
          "name": "stdout",
          "output_type": "stream",
          "text": [
            "           customer  cust_txn_count_prev\n",
            "86563   C1000148617                    0\n",
            "111048  C1000148617                    1\n",
            "122828  C1000148617                    2\n",
            "125868  C1000148617                    3\n",
            "130310  C1000148617                    4\n"
          ]
        }
      ],
      "source": [
        "# adding cust_txn_count_prev: number of previous transactions by the customer\n",
        "\n",
        "df_sort['cust_txn_count_prev'] = df_sort.groupby('customer', observed=True).cumcount().astype('int64')\n",
        "\n",
        "print (df_sort[['customer', 'cust_txn_count_prev']].head())\n"
      ]
    },
    {
      "cell_type": "code",
      "execution_count": 15,
      "metadata": {},
      "outputs": [
        {
          "name": "stdout",
          "output_type": "stream",
          "text": [
            "           customer   amount  cust_amt_mean_prev\n",
            "86563   C1000148617  14387.0               0.000\n",
            "111048  C1000148617   1669.0           14387.000\n",
            "122828  C1000148617   5618.0            8028.000\n",
            "125868  C1000148617   1474.0            7224.667\n",
            "130310  C1000148617   4742.0            5787.000\n",
            "132931  C1000148617    171.0            5578.000\n",
            "135609  C1000148617   3479.0            4676.833\n",
            "137616  C1000148617   5514.0            4505.714\n",
            "141258  C1000148617   1484.0            4631.750\n",
            "143862  C1000148617   1323.0            4282.000\n"
          ]
        }
      ],
      "source": [
        "# adding cust_amt_mean_prev: customer's historical mean amount up to previous txn\n",
        "\n",
        "prev_sum  = df_sort.groupby('customer', observed=True)['amount'].cumsum() - df_sort['amount'] # cumulative sum of amounts per customer, excluding current txn\n",
        "prev_count = df_sort.groupby('customer', observed=True).cumcount() # number of previous transactions per customer\n",
        "\n",
        "# calculating the mean amount of previous transactions\n",
        "df_sort['cust_amt_mean_prev'] = (\n",
        "    prev_sum / prev_count.replace(0, np.nan)\n",
        ").fillna(0).astype('float64').round(3)  # replacing NaN with 0 for customers with no previous transactions\n",
        "\n",
        "# checking the new variable\n",
        "print(df_sort[['customer', 'amount', 'cust_amt_mean_prev']].head(10))"
      ]
    },
    {
      "cell_type": "code",
      "execution_count": 16,
      "metadata": {},
      "outputs": [
        {
          "data": {
            "application/vnd.microsoft.datawrangler.viewer.v0+json": {
              "columns": [
                {
                  "name": "index",
                  "rawType": "object",
                  "type": "string"
                },
                {
                  "name": "cust_amt_mean_prev",
                  "rawType": "float64",
                  "type": "float"
                }
              ],
              "ref": "02a609f9-c1cf-4a01-901d-85aca088a3f0",
              "rows": [
                [
                  "count",
                  "594643.0"
                ],
                [
                  "mean",
                  "3736.6038814616504"
                ],
                [
                  "std",
                  "4962.501778697842"
                ],
                [
                  "min",
                  "0.0"
                ],
                [
                  "25%",
                  "2605.057"
                ],
                [
                  "50%",
                  "2872.771"
                ],
                [
                  "75%",
                  "3313.1409999999996"
                ],
                [
                  "max",
                  "614259.0"
                ]
              ],
              "shape": {
                "columns": 1,
                "rows": 8
              }
            },
            "text/plain": [
              "count    594643.000000\n",
              "mean       3736.603881\n",
              "std        4962.501779\n",
              "min           0.000000\n",
              "25%        2605.057000\n",
              "50%        2872.771000\n",
              "75%        3313.141000\n",
              "max      614259.000000\n",
              "Name: cust_amt_mean_prev, dtype: float64"
            ]
          },
          "execution_count": 16,
          "metadata": {},
          "output_type": "execute_result"
        }
      ],
      "source": [
        "# descriptive statistics of the new variable cust_amt_mean_prev\n",
        "\n",
        "df_sort['cust_amt_mean_prev'].describe()"
      ]
    },
    {
      "cell_type": "code",
      "execution_count": 17,
      "metadata": {},
      "outputs": [
        {
          "name": "stdout",
          "output_type": "stream",
          "text": [
            "         amount  cust_amt_mean_prev  amt_minus_cust_mean_diff\n",
            "86563   14387.0               0.000                 14387.000\n",
            "111048   1669.0           14387.000                -12718.000\n",
            "122828   5618.0            8028.000                 -2410.000\n",
            "125868   1474.0            7224.667                 -5750.667\n",
            "130310   4742.0            5787.000                 -1045.000\n"
          ]
        }
      ],
      "source": [
        "# adding amt_minus_cust_mean_diff: difference between current amount and customer's historical mean amount\n",
        "\n",
        "df_sort['amt_minus_cust_mean_diff'] = df_sort['amount'] - df_sort['cust_amt_mean_prev'].astype('float64')\n",
        "print(df_sort[['amount', 'cust_amt_mean_prev', 'amt_minus_cust_mean_diff']].head())"
      ]
    },
    {
      "cell_type": "code",
      "execution_count": 18,
      "metadata": {},
      "outputs": [
        {
          "name": "stdout",
          "output_type": "stream",
          "text": [
            "           customer  step  time_since_last_cust_txn\n",
            "86563   C1000148617    30                       0.0\n",
            "111048  C1000148617    38                       8.0\n",
            "122828  C1000148617    42                       4.0\n",
            "125868  C1000148617    43                       1.0\n",
            "130310  C1000148617    44                       1.0\n",
            "132931  C1000148617    45                       1.0\n",
            "135609  C1000148617    46                       1.0\n",
            "137616  C1000148617    47                       1.0\n",
            "141258  C1000148617    48                       1.0\n",
            "143862  C1000148617    49                       1.0\n"
          ]
        }
      ],
      "source": [
        "# adding time_since_last_cust_txn: time since last transaction by the customer\n",
        "\n",
        "df_sort['time_since_last_cust_txn'] = (\n",
        "    df_sort['step'] - df_sort.groupby('customer', observed=True)['step'].shift(1)\n",
        ").fillna(0).astype('float64') #fillna(0) for customers with no previous transactions\n",
        "\n",
        "print(df_sort[['customer', 'step', 'time_since_last_cust_txn']].head(10))"
      ]
    },
    {
      "cell_type": "code",
      "execution_count": 19,
      "metadata": {},
      "outputs": [
        {
          "name": "stdout",
          "output_type": "stream",
          "text": [
            "           customer     merchant  step  time_since_last_cust_merchant\n",
            "86563   C1000148617  M1888755466    30                            0.0\n",
            "111048  C1000148617  M1741626453    38                            0.0\n",
            "122828  C1000148617  M1888755466    42                           12.0\n",
            "125868  C1000148617   M840466850    43                            0.0\n",
            "130310  C1000148617  M1823072687    44                            0.0\n",
            "132931  C1000148617  M1823072687    45                            1.0\n",
            "135609  C1000148617  M1823072687    46                            1.0\n",
            "137616  C1000148617  M1823072687    47                            1.0\n",
            "141258  C1000148617    M85975013    48                            0.0\n",
            "143862  C1000148617  M1823072687    49                            2.0\n"
          ]
        }
      ],
      "source": [
        "# adding time_since_last_cust_merchant: time since last transaction by the customer at this merchant\n",
        "\n",
        "df_sort['time_since_last_cust_merchant'] = (\n",
        "    df_sort['step'] - df_sort.groupby(['customer', 'merchant'], observed=True)['step'].shift(1)\n",
        ").fillna(0).astype('float64') #fillna(0) for customers with no previous transactions at this merchant\n",
        "\n",
        "print(df_sort[['customer', 'merchant', 'step', 'time_since_last_cust_merchant']].head(10))"
      ]
    },
    {
      "cell_type": "code",
      "execution_count": 20,
      "metadata": {},
      "outputs": [
        {
          "name": "stdout",
          "output_type": "stream",
          "text": [
            "           customer     merchant  cust_merchant_txn_count_prev\n",
            "86563   C1000148617  M1888755466                             0\n",
            "111048  C1000148617  M1741626453                             0\n",
            "122828  C1000148617  M1888755466                             1\n",
            "125868  C1000148617   M840466850                             0\n",
            "130310  C1000148617  M1823072687                             0\n"
          ]
        }
      ],
      "source": [
        "# adding cust_merchant_txn_count_prev: number of previous transactions by the customer at this merchant\n",
        "\n",
        "df_sort['cust_merchant_txn_count_prev'] = df_sort.groupby(['customer', 'merchant'], observed=True).cumcount().astype('int64')\n",
        "\n",
        "print(df_sort[['customer', 'merchant', 'cust_merchant_txn_count_prev']].head())"
      ]
    },
    {
      "cell_type": "code",
      "execution_count": 21,
      "metadata": {},
      "outputs": [
        {
          "name": "stdout",
          "output_type": "stream",
          "text": [
            "           customer           category  cust_category_count_prev\n",
            "86563   C1000148617   es_otherservices                         0\n",
            "111048  C1000148617   es_sportsandtoys                         0\n",
            "122828  C1000148617   es_otherservices                         1\n",
            "125868  C1000148617            es_tech                         0\n",
            "130310  C1000148617  es_transportation                         0\n",
            "132931  C1000148617  es_transportation                         1\n",
            "135609  C1000148617  es_transportation                         2\n",
            "137616  C1000148617  es_transportation                         3\n",
            "141258  C1000148617            es_food                         0\n",
            "143862  C1000148617  es_transportation                         4\n"
          ]
        }
      ],
      "source": [
        "# adding cust_category_count_prev: number of previous transactions by the customer in this category\n",
        "\n",
        "df_sort['cust_category_count_prev'] = df_sort.groupby(['customer', 'category'], observed=True).cumcount().astype('int64')\n",
        "\n",
        "print(df_sort[['customer', 'category', 'cust_category_count_prev']].head(10))\n"
      ]
    },
    {
      "cell_type": "markdown",
      "metadata": {},
      "source": [
        "### Resulting dataset after building the new features\n",
        "\n",
        "Now we have all the new variables in the dataset `df_sort`, which is still sorted. \n",
        "The next step consists of bringing back the original order of the data, like in `df`, through `_row_id`. "
      ]
    },
    {
      "cell_type": "code",
      "execution_count": 22,
      "metadata": {},
      "outputs": [],
      "source": [
        "# restoring the original order of the dataset using _row_id\n",
        "df_final = df_sort.sort_values('_row_id').copy()"
      ]
    },
    {
      "cell_type": "markdown",
      "metadata": {},
      "source": [
        "# LightGBM"
      ]
    },
    {
      "cell_type": "code",
      "execution_count": 23,
      "metadata": {},
      "outputs": [],
      "source": [
        "# dividing the dataset into features and target variable\n",
        "\n",
        "X = df_final.drop(columns=['fraud', '_row_id'])\n",
        "y = df_final['fraud']"
      ]
    },
    {
      "cell_type": "code",
      "execution_count": 24,
      "metadata": {},
      "outputs": [],
      "source": [
        "# importing all necessary libraries for model training and lightGBM\n",
        "\n",
        "import lightgbm as lgb\n",
        "from sklearn.model_selection import train_test_split\n",
        "from sklearn.metrics import classification_report, confusion_matrix, roc_auc_score, accuracy_score, precision_score, recall_score, f1_score"
      ]
    },
    {
      "cell_type": "code",
      "execution_count": 25,
      "metadata": {},
      "outputs": [],
      "source": [
        "# splitting the dataset into training and testing sets\n",
        "\n",
        "X_train, X_test, y_train, y_test = train_test_split(X, y, test_size=0.2, random_state=42, stratify=y) \n",
        "\n",
        "# `stratify=y` to maintain the same proportion of fraud and non-fraud cases in both sets\n",
        "# useful for imbalanced datasets"
      ]
    },
    {
      "cell_type": "markdown",
      "metadata": {},
      "source": [
        "Before applying the model, the data needs to be converted into a `LightGBM Dataset object`, since the model is designed to operate on this specialized structure. \n",
        "\n",
        "In fact, LightGBM doesn't train on raw data, because it doesn't work directly with continuous feature values. LightGBM, instead, internally discretizes continuous features into histogram bins (approach known as **histogram-based algorithm**). \n",
        "This binning drastically reduces memory usage and speeds up training because the algorithm only needs to evaluate the boundaries of these few discrete bins. "
      ]
    },
    {
      "cell_type": "code",
      "execution_count": 26,
      "metadata": {},
      "outputs": [],
      "source": [
        "# creating LightGBM datasets for training and testing\n",
        "\n",
        "train_data = lgb.Dataset(X_train, label=y_train)\n",
        "test_data = lgb.Dataset(X_test, label=y_test, reference=train_data) #reference to training data for consistent binning"
      ]
    },
    {
      "cell_type": "markdown",
      "metadata": {},
      "source": [
        "Now we need to define the LightGBM parameters, but before this step we can identify the optimal value for `max_depth` by using a k-fold-cross-validation. "
      ]
    }
  ],
  "metadata": {
    "colab": {
      "provenance": []
    },
    "kernelspec": {
      "display_name": "amlwp",
      "language": "python",
      "name": "python3"
    },
    "language_info": {
      "codemirror_mode": {
        "name": "ipython",
        "version": 3
      },
      "file_extension": ".py",
      "mimetype": "text/x-python",
      "name": "python",
      "nbconvert_exporter": "python",
      "pygments_lexer": "ipython3",
      "version": "3.12.9"
    }
  },
  "nbformat": 4,
  "nbformat_minor": 0
}
